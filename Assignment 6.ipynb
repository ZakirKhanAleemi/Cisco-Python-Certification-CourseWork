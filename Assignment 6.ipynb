﻿{
 "cells": [
  {
   "cell_type": "markdown",
   "metadata": {},
   "source": [
    "Qno1) Define Object Oriented Programming Language?\n",
    "\n",
    "Ans:  Stands for \"Object-Oriented Programming.OOP refers to a programming methodology based on objects, instead of just        functions and procedures. These objects are organized into classes, which allow individual objects to be grouped together. Most modern programming languages including Java, C/C++, and PHP, are object-oriented languages.\n",
    "\n",
    "Qno2) List down the Benefits of OOP?\n",
    "\n",
    "Ans:  The benefits of OOP are:-\n",
    "\n",
    "      1)The programmes written with OOP are really easy to understand.\n",
    "\n",
    "      2)Since everything is treated as objects, so we can model a real-world concept using OOP.\n",
    "\n",
    "      3)OOP approach offers the reusability of classes. We can reuse the classes that are already created without writing them         again and again.\n",
    "\n",
    "      4)Since the parallel development of classes is possible in OOP concept, It results in the quick development of the               complete programmes.\n",
    "\n",
    "      5)Programmes written in OOP technique are marginally easier to test, manage as well as maintain.\n",
    "\n",
    "      6)It is a secured development technique since data is hidden and can’t be accessed by external functions.\n",
    "\n",
    "Qno3) Differentiate between function and method?\n",
    "\n",
    "Ans:  A function is a piece of code that is called by name. It can be passed data to operate on (i.e. the parameters) and can         optionally return data (the return value). All data that is passed to a function is explicitly passed.\n",
    "\n",
    "      A method is a piece of code that is called by a name that is associated with an object. In most respects it is identical       to a function except for two key differences:\n",
    "\n",
    "   1) A method is implicitly passed the object on which it was called.\n",
    "   2) A method is able to operate on data that is contained within the class (remembering that an object is an instance of a         class - the class is the definition, the object is an instance of that data).\n",
    "\n",
    "Qno4) Define the following terms:\n",
    "\n",
    "      Class:\n",
    "            In object-oriented programming, a class is a blueprint for creating objects, providing initial values for state,               and implementations of behavior.\n",
    "\t        The user-defined objects are created using the class keyword. The class is a blueprint that defines a nature of a               future object.\n",
    "            Classes are used to create and manage new objects and support inheritance—a key ingredient in object-oriented                   programming and a mechanism of reusing code. \n",
    "      \n",
    "      Object:\n",
    "            An \"object\" in an OOP language refers to a specific type, or \"instance,\" of a class. Each object has a structure               similar to other objects in the class, but can be assigned individual characteristics. An object can also call                 functions, or methods, specific to that object.\n",
    "\n",
    "      Attribute: \n",
    "\t       An Attribute is a named property of a class. It has a type. It describes the range of values that that property may            hold.\n",
    "      \n",
    "      Behavior:\n",
    "\t       A class's behavior determines how an instance of that class operates.For example, how it will \"react\" if asked to do            something by another class or object or if its internal state changes. Behavior is the only way objects can do                  anything to themselves or have anything done to them.\n",
    "\n",
    "\n",
    "\n"
   ]
  },
  {
   "cell_type": "code",
   "execution_count": 6,
   "metadata": {},
   "outputs": [
    {
     "name": "stdout",
     "output_type": "stream",
     "text": [
      "Corolla Gli 2014 is in start condition. Car color is Black\n",
      "City Aspire 2015 is in stop condition. Car color is White\n",
      "City Aspire 2015 is in running condition. Car color is White\n"
     ]
    }
   ],
   "source": [
    "#Question No 05:\n",
    "class Car:\n",
    "\n",
    "    def __init__(self, name, model, color, make, series):\n",
    "        self.name = name\n",
    "        self.model = model\n",
    "        self.color= color\n",
    "        self.make= make\n",
    "        self.series= series\n",
    "        \n",
    "    def Start(self):\n",
    "        return \"{} {} {} is in start condition. Car color is {}\".format(self.series, self.name, self.model, self.color)\n",
    "\n",
    "    def Stop(self):\n",
    "        return \"{} {} {} is in stop condition. Car color is {}\".format(self.series, self.name, self.model, self.color)\n",
    "\n",
    "    def Running(self):\n",
    "        return \"{} {} {} is in running condition. Car color is {}\".format(self.series, self.name, self.model, self.color)\n",
    "\n",
    "car1 = Car(\"Gli\", 2014, \"Black\", \"Toyota\", \"Corolla\")\n",
    "car2 = Car(\"Aspire\", 2015, \"White\", \"Honda\", \"City\")\n",
    "\n",
    "\n",
    "print(car1.Start())\n",
    "print(car2.Stop())\n",
    "print(car2.Running())\n",
    "\n",
    "\n"
   ]
  },
  {
   "cell_type": "code",
   "execution_count": null,
   "metadata": {},
   "outputs": [],
   "source": []
  }
 ],
 "metadata": {
  "kernelspec": {
   "display_name": "Python 3",
   "language": "python",
   "name": "python3"
  },
  "language_info": {
   "codemirror_mode": {
    "name": "ipython",
    "version": 3
   },
   "file_extension": ".py",
   "mimetype": "text/x-python",
   "name": "python",
   "nbconvert_exporter": "python",
   "pygments_lexer": "ipython3",
   "version": "3.7.1"
  }
 },
 "nbformat": 4,
 "nbformat_minor": 2
}
