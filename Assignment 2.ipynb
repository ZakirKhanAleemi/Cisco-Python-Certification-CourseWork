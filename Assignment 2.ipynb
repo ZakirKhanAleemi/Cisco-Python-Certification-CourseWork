{
 "cells": [
  {
   "cell_type": "code",
   "execution_count": 14,
   "metadata": {},
   "outputs": [
    {
     "name": "stdout",
     "output_type": "stream",
     "text": [
      "enter marks out of 10023\n",
      "enter marks out of 10023\n",
      "enter marks out of 1004\n",
      "enter marks out of 10053\n",
      "enter marks out of 10023\n",
      "totalmarks = 23\n",
      "percentage = 4.6\n",
      "fail\n"
     ]
    }
   ],
   "source": [
    "#Question 1\n",
    "\n",
    "\n",
    "marks=[]\n",
    "totalmarks=0; \n",
    "for i in range (5):\n",
    "    x=int(input(\"enter marks out of 100\"))\n",
    "    marks.append(x) \n",
    "totalmarks = totalmarks + x \n",
    "print(\"totalmarks =\",totalmarks) \n",
    "percentage=(totalmarks*100)/500\n",
    "print(\"percentage =\", percentage) \n",
    "if percentage>=90:\n",
    "    print(\"grade A\") \n",
    "elif percentage>=80:\n",
    "    print(\"grade B\") \n",
    "elif percentage>=70:\n",
    "    print(\"grade C\") \n",
    "elif percentage>=60: \n",
    "    print(\"grade D\") \n",
    "else:\n",
    "    print(\"fail\")\n",
    "\n"
   ]
  },
  {
   "cell_type": "markdown",
   "metadata": {},
   "source": [
    "##### Question 2\n",
    "\n",
    "\n",
    "\n",
    "x=int(input(\"enter number\")) \n",
    "if x%2==0: \n",
    "print(\"even no\") \n",
    "else: \n",
    "print(\"odd no\")\n",
    "\n"
   ]
  },
  {
   "cell_type": "code",
   "execution_count": 15,
   "metadata": {},
   "outputs": [
    {
     "name": "stdout",
     "output_type": "stream",
     "text": [
      "7\n"
     ]
    }
   ],
   "source": [
    "#Question 3\n",
    "\n",
    "list=[25,26,39,54,59,68,71]\n",
    "print(len(list))\n"
   ]
  },
  {
   "cell_type": "code",
   "execution_count": 16,
   "metadata": {},
   "outputs": [
    {
     "name": "stdout",
     "output_type": "stream",
     "text": [
      "sum of list= 187\n"
     ]
    }
   ],
   "source": [
    "\n",
    "#Question 4\n",
    "list=[29,21,38,4,95] \n",
    "x=len(list) \n",
    "sum=0 \n",
    "for i in range (x):\n",
    "    sum=sum+list[i] \n",
    "print(\"sum of list=\",sum)\n",
    "\n"
   ]
  },
  {
   "cell_type": "code",
   "execution_count": 17,
   "metadata": {},
   "outputs": [
    {
     "name": "stdout",
     "output_type": "stream",
     "text": [
      "65\n"
     ]
    }
   ],
   "source": [
    "\n",
    "#Question 5\n",
    "\n",
    "list=[26,29,53,48,65]\n",
    "print(max(list))\n",
    "\n"
   ]
  },
  {
   "cell_type": "code",
   "execution_count": 22,
   "metadata": {},
   "outputs": [
    {
     "name": "stdout",
     "output_type": "stream",
     "text": [
      "1\n",
      "1\n",
      "2\n",
      "3\n"
     ]
    }
   ],
   "source": [
    "#Question 6\n",
    "\n",
    "list=[1,1,2,3,5,8,13,21,34,55,89] \n",
    "x=len(list) \n",
    "for i in range(x):\n",
    "    if(list[i]<5):\n",
    "        print(list[i])\n"
   ]
  },
  {
   "cell_type": "code",
   "execution_count": null,
   "metadata": {
    "collapsed": true
   },
   "outputs": [],
   "source": []
  }
 ],
 "metadata": {
  "kernelspec": {
   "display_name": "Python 3",
   "language": "python",
   "name": "python3"
  },
  "language_info": {
   "codemirror_mode": {
    "name": "ipython",
    "version": 3
   },
   "file_extension": ".py",
   "mimetype": "text/x-python",
   "name": "python",
   "nbconvert_exporter": "python",
   "pygments_lexer": "ipython3",
   "version": "3.6.3"
  }
 },
 "nbformat": 4,
 "nbformat_minor": 2
}
